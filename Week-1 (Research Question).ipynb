{
 "cells": [
  {
   "cell_type": "markdown",
   "metadata": {},
   "source": [
    "### 1) Data set that I would like to work with:"
   ]
  },
  {
   "cell_type": "markdown",
   "metadata": {},
   "source": [
    "NESARC (National Epidemiologic Survey on Alcohol and Related Conditions)"
   ]
  },
  {
   "cell_type": "markdown",
   "metadata": {},
   "source": [
    "### 2) Topic of Interest:\n",
    "    Alcohol Consumption\n",
    "    Tobacco Consumption"
   ]
  },
  {
   "cell_type": "markdown",
   "metadata": {},
   "source": [
    "### 3)Research Questions and Hypothesis:"
   ]
  },
  {
   "cell_type": "raw",
   "metadata": {},
   "source": [
    " I decide that I am most interested in exploring the association between :\n",
    " \n",
    "-> Current marital status(MARITAL) and drinking status(CONSUMER).\n",
    "\n",
    "    I want to see how marital status affect people's drinking habbit and want to analyse that whether divorces and seperations     lead to more habbit of consuming liquors.\n",
    "\n",
    "\n",
    "-> Children raised by relatives under age 18(S1Q2C2) and drinking status(CONSUMER) & tobacco consumption(SMOKER) as well as how    heavy they consume both tobacco(S3AQ52) and alcohol(S2AQ19).\n",
    "\n",
    "    I want to see that children who are not raised by parents drinks and smoke more then those who are raised by parents.\n"
   ]
  },
  {
   "cell_type": "markdown",
   "metadata": {},
   "source": [
    "### 4) Literature Review\n"
   ]
  },
  {
   "cell_type": "markdown",
   "metadata": {},
   "source": [
    "Those who have lost their partner after marriage seem to start consuming more liquors and cigrettes to avoid mental stress.\n",
    "\n",
    "Divorce and the Onset of Alcohol Use Disorders: A Swedish Population-Based Longitudinal Cohort and Co-Relative Study\n",
    "https://www.ncbi.nlm.nih.gov/pmc/articles/PMC5411284/\n"
   ]
  },
  {
   "cell_type": "code",
   "execution_count": null,
   "metadata": {},
   "outputs": [],
   "source": []
  }
 ],
 "metadata": {
  "kernelspec": {
   "display_name": "Python 3",
   "language": "python",
   "name": "python3"
  },
  "language_info": {
   "codemirror_mode": {
    "name": "ipython",
    "version": 3
   },
   "file_extension": ".py",
   "mimetype": "text/x-python",
   "name": "python",
   "nbconvert_exporter": "python",
   "pygments_lexer": "ipython3",
   "version": "3.7.4"
  }
 },
 "nbformat": 4,
 "nbformat_minor": 2
}
